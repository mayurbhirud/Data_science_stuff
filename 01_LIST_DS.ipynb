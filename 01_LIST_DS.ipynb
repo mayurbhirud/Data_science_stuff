{
 "cells": [
  {
   "cell_type": "markdown",
   "id": "2aa6ef33",
   "metadata": {},
   "source": [
    "## what we are going to learning?\n",
    "1. Creation, indexing, and slicing\n",
    "2. List methods (append, insert, remove, pop, etc.)\n",
    "3. List comprehension\n",
    "4. Iterating through lists\n",
    "5. Sorting and reversing lists \n"
   ]
  },
  {
   "cell_type": "markdown",
   "id": "be76f526",
   "metadata": {},
   "source": [
    "1. creation, indexing and slicing"
   ]
  },
  {
   "cell_type": "code",
   "execution_count": 1,
   "id": "86ec23f4",
   "metadata": {},
   "outputs": [
    {
     "name": "stdout",
     "output_type": "stream",
     "text": [
      "index position: 0\n",
      "reverse index position : 5\n"
     ]
    }
   ],
   "source": [
    "my_list=[0,1,2,3,4,5]\n",
    "my_list1=[6,7,8,9,10]\n",
    "# indexing\n",
    "print(f'index position: {my_list[0]}')\n",
    "print(f'reverse index position : {my_list[-1]}')"
   ]
  },
  {
   "cell_type": "markdown",
   "id": "0a50ecec",
   "metadata": {},
   "source": [
    "indexing slicing:\n",
    "Analogy: take handloop end tread bunchs[1,2,3,4,5,6,7,8,9,10]\n",
    "- arrange by indexing py_indexing[0,1,2,3,5,6,7,8,9] and\n",
    "- originial indexing [1,2,3,4,5,6,7,8,9,10]\n",
    "- **[element along with py indexing to all after elements : element along original indixing to all before elements]**\n"
   ]
  },
  {
   "cell_type": "code",
   "execution_count": 2,
   "id": "a6c193a0",
   "metadata": {},
   "outputs": [
    {
     "name": "stdout",
     "output_type": "stream",
     "text": [
      "element from py_idx 3 to after & org_idx 6 to before: [3, 4, 5]\n"
     ]
    }
   ],
   "source": [
    "# slicing\n",
    "print(f'element from py_idx 3 to after & org_idx 6 to before: {my_list[3:6]}')"
   ]
  },
  {
   "cell_type": "markdown",
   "id": "9cff090a",
   "metadata": {},
   "source": [
    "so if we want to access element from lase : last 5 elements"
   ]
  },
  {
   "cell_type": "code",
   "execution_count": 3,
   "id": "0cd06e6d",
   "metadata": {},
   "outputs": [
    {
     "name": "stdout",
     "output_type": "stream",
     "text": [
      "[1]\n",
      "[1, 2, 3, 4]\n"
     ]
    }
   ],
   "source": [
    "print(my_list[1:-4])\n",
    "print(my_list[-5:-1]) # the -1 dosent take the element it take rest to the before element except self"
   ]
  },
  {
   "cell_type": "markdown",
   "id": "dabbb3dc",
   "metadata": {},
   "source": [
    "# List Methods: \n",
    "- append(): Adds an element to the end of the list.\n",
    "- insert(): Inserts an element at a specific index.\n",
    "- remove(): Removes the first occurrence of a value.\n",
    "- pop(): Removes and returns an element at a specific index (default is the last).\n",
    "- extend(): Appends elements from another list to the end.\n",
    "- index(): Returns the index of the first occurrence of a value.\n",
    "- count(): Returns the number of occurrences of a value."
   ]
  },
  {
   "cell_type": "code",
   "execution_count": 4,
   "id": "753e1522",
   "metadata": {},
   "outputs": [
    {
     "ename": "IndexError",
     "evalue": "pop index out of range",
     "output_type": "error",
     "traceback": [
      "\u001b[1;31m---------------------------------------------------------------------------\u001b[0m",
      "\u001b[1;31mIndexError\u001b[0m                                Traceback (most recent call last)",
      "Input \u001b[1;32mIn [4]\u001b[0m, in \u001b[0;36m<cell line: 4>\u001b[1;34m()\u001b[0m\n\u001b[0;32m      2\u001b[0m my_list\u001b[38;5;241m.\u001b[39minsert(\u001b[38;5;241m0\u001b[39m,\u001b[38;5;241m13\u001b[39m) \u001b[38;5;66;03m# add element at specific index\u001b[39;00m\n\u001b[0;32m      3\u001b[0m my_list\u001b[38;5;241m.\u001b[39mremove(\u001b[38;5;241m13\u001b[39m) \u001b[38;5;66;03m# remove only first\u001b[39;00m\n\u001b[1;32m----> 4\u001b[0m \u001b[43mmy_list\u001b[49m\u001b[38;5;241;43m.\u001b[39;49m\u001b[43mpop\u001b[49m\u001b[43m(\u001b[49m\u001b[38;5;241;43m13\u001b[39;49m\u001b[43m)\u001b[49m\n",
      "\u001b[1;31mIndexError\u001b[0m: pop index out of range"
     ]
    }
   ],
   "source": [
    "# my_list.append(13)# add element at last\n",
    "my_list.insert(0,13) # add element at specific index\n",
    "my_list.remove(13) # remove only first\n",
    "my_list.pop(13)# removes elements and return to default last update\n"
   ]
  },
  {
   "cell_type": "code",
   "execution_count": null,
   "id": "460a5c09",
   "metadata": {},
   "outputs": [],
   "source": [
    "my_list.extend(my_list1) # that extention goes on not stop at once that addition goes on.....\n",
    "extended= my_list\n",
    "print(extended)"
   ]
  },
  {
   "cell_type": "code",
   "execution_count": null,
   "id": "5044086e",
   "metadata": {},
   "outputs": [],
   "source": [
    "extended.index(9) # that return the index of value that takes argument by index(list_values) <-- output index"
   ]
  },
  {
   "cell_type": "markdown",
   "id": "c4280b71",
   "metadata": {},
   "source": [
    "# List comprehension\n",
    "- modify the list by taking argument of other list's iterables and add modifications"
   ]
  },
  {
   "cell_type": "code",
   "execution_count": null,
   "id": "0d350f99",
   "metadata": {},
   "outputs": [],
   "source": [
    "squares= [x**3 for x in extended[1:9]] # it uses single line for loop and other flow functions\n",
    "squares"
   ]
  },
  {
   "cell_type": "markdown",
   "id": "ca91b454",
   "metadata": {},
   "source": [
    "# sorting list"
   ]
  },
  {
   "cell_type": "code",
   "execution_count": null,
   "id": "7e3f0296",
   "metadata": {},
   "outputs": [],
   "source": [
    "my_list.sort()\n",
    "my_list\n",
    "# reverse list\n",
    "extended[::-1]"
   ]
  },
  {
   "cell_type": "code",
   "execution_count": null,
   "id": "069067d6",
   "metadata": {},
   "outputs": [],
   "source": []
  },
  {
   "cell_type": "code",
   "execution_count": null,
   "id": "defb1926",
   "metadata": {},
   "outputs": [],
   "source": []
  }
 ],
 "metadata": {
  "kernelspec": {
   "display_name": "Python 3 (ipykernel)",
   "language": "python",
   "name": "python3"
  },
  "language_info": {
   "codemirror_mode": {
    "name": "ipython",
    "version": 3
   },
   "file_extension": ".py",
   "mimetype": "text/x-python",
   "name": "python",
   "nbconvert_exporter": "python",
   "pygments_lexer": "ipython3",
   "version": "3.9.12"
  }
 },
 "nbformat": 4,
 "nbformat_minor": 5
}
