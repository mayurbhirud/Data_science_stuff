{
 "cells": [
  {
   "cell_type": "markdown",
   "id": "7ac94392",
   "metadata": {},
   "source": [
    "# Tuples\n",
    "- Creation and immutability\n",
    "- Unpacking tuples\n",
    "- Tuple packing and unpacking\n",
    "- Using tuples for multiple return values"
   ]
  },
  {
   "cell_type": "markdown",
   "id": "de6b4a0a",
   "metadata": {},
   "source": [
    "use case of tuples\n",
    "- graph functions to encode and decode the coordinates"
   ]
  },
  {
   "cell_type": "code",
   "execution_count": 1,
   "id": "f58b6b7d",
   "metadata": {},
   "outputs": [
    {
     "name": "stdout",
     "output_type": "stream",
     "text": [
      "<class 'tuple'>\n",
      "<class 'tuple'>\n"
     ]
    }
   ],
   "source": [
    "my_tuple= (11,12,13)\n",
    "my_tuple1= 15,16,17\n",
    "print(type(my_tuple))\n",
    "print(type(my_tuple1))"
   ]
  },
  {
   "cell_type": "markdown",
   "id": "bfa9e97c",
   "metadata": {},
   "source": [
    "# unpacking Tuple\n",
    "- like toolbok contains all tools \n",
    "- so seperate that sorted tools"
   ]
  },
  {
   "cell_type": "code",
   "execution_count": 2,
   "id": "ecd42a2a",
   "metadata": {},
   "outputs": [],
   "source": [
    "# -- tuple can be very useful in list elements modification which contains multiple pack of tuples--"
   ]
  },
  {
   "cell_type": "code",
   "execution_count": 3,
   "id": "77e15e6a",
   "metadata": {},
   "outputs": [
    {
     "name": "stdout",
     "output_type": "stream",
     "text": [
      "<class 'int'>\n",
      "12\n"
     ]
    }
   ],
   "source": [
    "x,y,z = my_tuple\n",
    "print(type(x))\n",
    "print(y)"
   ]
  },
  {
   "cell_type": "code",
   "execution_count": 4,
   "id": "9158e145",
   "metadata": {},
   "outputs": [
    {
     "name": "stdout",
     "output_type": "stream",
     "text": [
      "5\n"
     ]
    }
   ],
   "source": [
    "# coordinates\n",
    "coordinates=5,6\n",
    "x,y= coordinates\n",
    "print(x)"
   ]
  },
  {
   "cell_type": "code",
   "execution_count": 5,
   "id": "1f0cb813",
   "metadata": {},
   "outputs": [
    {
     "data": {
      "text/plain": [
       "[7, 15, 5, 26]"
      ]
     },
     "execution_count": 5,
     "metadata": {},
     "output_type": "execute_result"
    }
   ],
   "source": [
    "data=[(2,5),(7,8),(3,2),(11,15)]\n",
    "sum= [x+y for x,y in data]\n",
    "sum"
   ]
  },
  {
   "cell_type": "code",
   "execution_count": 6,
   "id": "d6804091",
   "metadata": {},
   "outputs": [
    {
     "data": {
      "text/plain": [
       "['priti zinta', 'madhuri dixit', 'deepika padukone']"
      ]
     },
     "execution_count": 6,
     "metadata": {},
     "output_type": "execute_result"
    }
   ],
   "source": [
    "name=[('priti ','zinta'),('madhuri ','dixit'),('deepika ','padukone')]\n",
    "full_name=[ x+y for x,y in name]\n",
    "full_name"
   ]
  },
  {
   "cell_type": "code",
   "execution_count": 7,
   "id": "d962c6c4",
   "metadata": {},
   "outputs": [
    {
     "name": "stdout",
     "output_type": "stream",
     "text": [
      "['1: priti zinta', '2: madhuri dixit', '3: deepika padukone']\n"
     ]
    }
   ],
   "source": [
    "name = [('priti', 'zinta'), ('madhuri', 'dixit'), ('deepika', 'padukone')]\n",
    "full_names = [f\"{index}: {first} {last}\" for index, (first, last) in enumerate(name, start=1)]\n",
    "print(full_names)\n"
   ]
  },
  {
   "cell_type": "markdown",
   "id": "d447919e",
   "metadata": {},
   "source": [
    "tuple example\n",
    "- calculate the slope of line"
   ]
  },
  {
   "cell_type": "code",
   "execution_count": 8,
   "id": "0e39f8ce",
   "metadata": {},
   "outputs": [
    {
     "name": "stdout",
     "output_type": "stream",
     "text": [
      "1.3333333333333333\n"
     ]
    }
   ],
   "source": [
    "def slope(a_cd,b_cd):\n",
    "    x1,y1= a_cd\n",
    "    x2,y2= b_cd # unpacking\n",
    "    slope= (y2-y1)/(x2-x1)\n",
    "    return slope\n",
    "    \n",
    "    \n",
    "    \n",
    "a_cd=(0,0)\n",
    "b_cd=(3,4)# these are the x and y coodinates\n",
    "print(slope(a_cd,b_cd))"
   ]
  },
  {
   "cell_type": "markdown",
   "id": "94242e30",
   "metadata": {},
   "source": [
    "# Example\n",
    "- In a village, a water tanker owner arrives to sell water. However, one of his employees is responsible for filling the water, and the owner remains unaware of the precise total water quantity. To settle accounts, the owner needs to collect payments from the village chief. The employee distributed the allotted water into various containers for the villagers. How can the water tanker owner efficiently gather the funds from the village chief?"
   ]
  },
  {
   "cell_type": "code",
   "execution_count": 31,
   "id": "d6342e76",
   "metadata": {},
   "outputs": [],
   "source": [
    "# first making random data\n",
    "import random \n",
    "i = 0\n",
    "list1=[5,7,8,6,4,3,9]\n",
    "x=[]\n",
    "while i <45:\n",
    "    e=random.choice(list1)\n",
    "    x.append(e)\n",
    "    i += 1\n",
    "list2=[87,90,110,120,125]\n",
    "y=[]\n",
    "i=0\n",
    "while i <45:\n",
    "    e=random.choice(list2)\n",
    "    y.append(e)\n",
    "    i +=1   \n"
   ]
  },
  {
   "cell_type": "code",
   "execution_count": 48,
   "id": "3511c980",
   "metadata": {},
   "outputs": [],
   "source": [
    "# first he will make the list of measurement simultaneously firt diameter, second height of container\n",
    "x1=tuple(x) # diameters values\n",
    "y1=tuple(y) # height of container\n",
    "rate= 15 # rate of water per liter"
   ]
  },
  {
   "cell_type": "markdown",
   "id": "a2ac16f0",
   "metadata": {},
   "source": [
    "why shoud cast type in tuple there are two reason:\n",
    "1. to make operation in calculation \n",
    "2. to forzen the keep changing randomness"
   ]
  },
  {
   "cell_type": "code",
   "execution_count": 53,
   "id": "90896429",
   "metadata": {},
   "outputs": [
    {
     "name": "stdout",
     "output_type": "stream",
     "text": [
      "[16.956, 21.195, 22.608, 20.488500000000002, 17.6625, 16.390800000000002, 41.2125, 25.434, 12.293099999999999, 20.488500000000002, 36.267, 33.912, 46.629000000000005, 29.437500000000004, 12.717, 17.6625, 28.26, 16.390800000000002, 45.216, 50.86800000000001, 35.325, 25.434, 33.912, 25.905000000000005, 38.151, 24.586199999999998, 22.608, 35.325, 32.781600000000005, 31.086, 21.195, 28.26, 52.987500000000004, 45.216, 28.6839, 24.586199999999998, 17.6625, 25.905000000000005, 28.26, 20.724000000000004, 17.6625, 16.956, 33.912, 46.629000000000005, 25.434]\n"
     ]
    }
   ],
   "source": [
    "# calculation part\n",
    "def money_from_chief(x1,y1,rate):\n",
    "    combine_measures=[]\n",
    "    list1=[]\n",
    "    list2=[]\n",
    "    for diameter,height in zip(x1,y1):\n",
    "        cmb= (diameter,height)\n",
    "        combine_measures.append(cmb)\n",
    "    for x,y in combine_measures:\n",
    "        clc= (3.14*x)*y\n",
    "        list1.append(clc)\n",
    "    for i in list1:\n",
    "        vol= (i/1000)*rate\n",
    "        list2.append(vol)\n",
    "    return list2\n",
    "result=money_from_chief(x1,y1,rate)\n",
    "print(result)"
   ]
  },
  {
   "cell_type": "code",
   "execution_count": 55,
   "id": "98a0ea1f",
   "metadata": {},
   "outputs": [
    {
     "name": "stdout",
     "output_type": "stream",
     "text": [
      "57207.42449999984\n"
     ]
    }
   ],
   "source": [
    "i = 0\n",
    "payment=0\n",
    "while i < 45:\n",
    "    \n",
    "    for e in result:\n",
    "        payment +=e\n",
    "    i += 1\n",
    "print(payment)"
   ]
  },
  {
   "cell_type": "code",
   "execution_count": null,
   "id": "f3ab0c46",
   "metadata": {},
   "outputs": [],
   "source": [
    "#  so water tanker owner efficiently gather the funds mentioned above from the village chief"
   ]
  }
 ],
 "metadata": {
  "kernelspec": {
   "display_name": "Python 3 (ipykernel)",
   "language": "python",
   "name": "python3"
  },
  "language_info": {
   "codemirror_mode": {
    "name": "ipython",
    "version": 3
   },
   "file_extension": ".py",
   "mimetype": "text/x-python",
   "name": "python",
   "nbconvert_exporter": "python",
   "pygments_lexer": "ipython3",
   "version": "3.9.12"
  }
 },
 "nbformat": 4,
 "nbformat_minor": 5
}
